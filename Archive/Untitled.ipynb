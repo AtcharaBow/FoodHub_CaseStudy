{
 "cells": [
  {
   "cell_type": "code",
   "execution_count": null,
   "id": "10fb7ada",
   "metadata": {},
   "outputs": [],
   "source": [
    "# write the code here\n",
    "# read the data\n",
    "#df_copy = pd.read_csv('foodhub_order.csv').copy()\n",
    "#df_copy.head()"
   ]
  },
  {
   "cell_type": "code",
   "execution_count": null,
   "id": "88d8e0f9",
   "metadata": {},
   "outputs": [],
   "source": [
    "# to find average rating for each resturant\n",
    "#ave_rating_df = new_df.groupby(['restaurant_name'])['rating'].mean().reset_index()\n",
    "#ave_rating_df.head()"
   ]
  },
  {
   "cell_type": "code",
   "execution_count": null,
   "id": "add980b3",
   "metadata": {},
   "outputs": [],
   "source": [
    "#to drop 0, which is 'Not given' in rating column\n",
    "new_df1 = new_df.loc[new_df[\"rating\"] > 0]\n",
    "new_df1"
   ]
  },
  {
   "cell_type": "code",
   "execution_count": null,
   "id": "868cb983",
   "metadata": {},
   "outputs": [],
   "source": [
    "# to create a DataFrame that has rating as 'Not given' \n",
    "#not_given = df[ df['rating']== 'Not given'].index\n",
    "  \n",
    "#not_given"
   ]
  },
  {
   "cell_type": "code",
   "execution_count": null,
   "id": "1b8508c4",
   "metadata": {},
   "outputs": [],
   "source": [
    "#to set variable(s) that might need to be convert\n",
    "# Currently rating dtype is object. It will convert to int dtype for further analysis.\n",
    "# to check how many types of ratings\n",
    "pd.unique(df['rating'])"
   ]
  },
  {
   "cell_type": "code",
   "execution_count": null,
   "id": "bb398c15",
   "metadata": {},
   "outputs": [],
   "source": [
    "plt.figure(figsize=(15,5))  # setting the figure size\n",
    "sns.histplot(top_10['restaurant_name']); #can't fix count as numbers not a fraction. "
   ]
  },
  {
   "cell_type": "code",
   "execution_count": null,
   "id": "a7675d56",
   "metadata": {},
   "outputs": [],
   "source": [
    "sns.catplot(x='cost_of_the_order',\n",
    "             col='cuisine_type', \n",
    "             data=new_df1,\n",
    "             col_wrap=4,\n",
    "             kind=\"violin\")\n",
    "plt.show()"
   ]
  },
  {
   "cell_type": "code",
   "execution_count": null,
   "id": "c8434513",
   "metadata": {},
   "outputs": [],
   "source": [
    "number_of_unique_values = len(cus_id)\n",
    "print(number_of_unique_values)"
   ]
  },
  {
   "cell_type": "code",
   "execution_count": null,
   "id": "01f93149",
   "metadata": {},
   "outputs": [],
   "source": [
    "cus_id= df['customer_id'].unique()\n",
    "print(cus_id)"
   ]
  },
  {
   "cell_type": "markdown",
   "id": "081c4a1f",
   "metadata": {},
   "source": [
    "#### Observations:\n",
    "* customer id vs cost of the order, there are more order in the range 10 dollars to 20 dollars.\n",
    "* customer id vs order id, there are more orders in the customer id range 100-180000. Should check if there any are repeat customers\n",
    "* cost of order does not have any effect on food preparation time nor delivery time"
   ]
  },
  {
   "cell_type": "code",
   "execution_count": null,
   "id": "0d2824c4",
   "metadata": {},
   "outputs": [],
   "source": [
    "rank = df.value_counts(['restaurant_name']).reset_index()\n",
    "rank.head(10)"
   ]
  },
  {
   "cell_type": "code",
   "execution_count": null,
   "id": "6206ed76",
   "metadata": {},
   "outputs": [],
   "source": [
    "data = [['Shake Shack',219],['The Meatball Shop',132],['Blue Ribbon Sushi',119],['Blue Ribbon Fried Chicken', 96],['Parm',68],['RedFarm Broadway',59],['RedFarm Hudson',55],['TAO',49],['Han Dynasty',46],['Blue Ribbon Sushi Bar & Grill',44]]\n",
    "# Create the pandas DataFrame\n",
    "top_10 = pd.DataFrame(data, columns = ['restaurant_name', 'order_count'])\n",
    " \n",
    "top_10"
   ]
  },
  {
   "cell_type": "code",
   "execution_count": null,
   "id": "52d1f816",
   "metadata": {},
   "outputs": [],
   "source": [
    "# to find if there are correlations between number of orders from restuarant \n",
    "# during weekday/weekend and rating\n",
    "\n",
    "sns.catplot(y='restaurant_name',\n",
    "           hue = 'day_of_the_week',\n",
    "           col = 'rating',\n",
    "           data = new_df,\n",
    "           kind =\"count\");"
   ]
  },
  {
   "cell_type": "code",
   "execution_count": null,
   "id": "048573fd",
   "metadata": {},
   "outputs": [],
   "source": [
    "# new = old[['A', 'C', 'D']].copy()\n",
    "# new = pd.DataFrame([old.A, old.B, old.C]).transpose()\n",
    "\n",
    "#new = data[['food_preparation_time','delivery_time','rating']].copy()\n",
    "#new = pd.DataFrame([data.food_preperation_time, data.delivery_time, data.rating]).transpose()"
   ]
  },
  {
   "cell_type": "code",
   "execution_count": null,
   "id": "c91ff1ee",
   "metadata": {},
   "outputs": [],
   "source": [
    "print(df)\n",
    "sum_column = df[\"col1\"] + df[\"col2\"]\n",
    "df[\"col3\"] = sum_column.\n",
    "print(df)"
   ]
  },
  {
   "cell_type": "code",
   "execution_count": null,
   "id": "91a7ece0",
   "metadata": {},
   "outputs": [],
   "source": [
    "#want to creat top 25 restaurants based on order counts\n",
    "top = new_df.copy()\n",
    "top\n",
    "\n",
    "t25 = top['restaurant_name'].value_counts()\n",
    "top25 =t25\n",
    "top25.head(25)"
   ]
  },
  {
   "cell_type": "code",
   "execution_count": null,
   "id": "43796816",
   "metadata": {},
   "outputs": [],
   "source": [
    "list1=['Shake Shack',219]\n",
    "list2=['The Meatball Shop',132]\n",
    "list3=['Blue Ribbon Sushi',119]\n",
    "list4=['Blue Ribbon Fried Chicken',96]\n",
    "list5=['Parm',68]\n",
    "list6=['RedFarm Broadway',59]\n",
    "list7=['RedFarm Hudson',55]\n",
    "list8=['TAO',49]\n",
    "list9=['Han Dynasty',46]\n",
    "list10=['Blue Ribbon Sushi Bar & Grill',44]\n",
    "list11=['Nobu Next Door',42]\n",
    "list12=['Rubirosa',37]\n",
    "list13=['Sushi of Gari 46',37]\n",
    "list14=['Momoya',30]\n",
    "list15=['Blue Ribbon Sushi Izakaya',29]\n",
    "list16=['Five Guys Burgers and Fries', 29]\n",
    "list17=['Bareburger',27]\n",
    "list18=['Tamarind TriBeCa',27]\n",
    "list19=['Jacks Wife Freda',25]\n",
    "list20=['Sushi of Gari Tribeca',24]\n",
    "list21=['Chipotle Mexican Grill $1.99 Delivery',23]\n",
    "list22=['Cafe Mogador',18]\n",
    "list23=['The Smile',18]\n",
    "list24=['Yama Japanese Restaurant',18]\n",
    "list25=['ilili Restaurant',18]"
   ]
  },
  {
   "cell_type": "code",
   "execution_count": null,
   "id": "403083b6",
   "metadata": {},
   "outputs": [],
   "source": [
    "rest_top25= pd.DataFrame(data=[list1, list2, list3, list4,list5, list6, list7, list8, list9,list10,\n",
    "                               list11, list12, list13, list14,list15, list16, list17, list18, list19,list20,\n",
    "                               list21, list22, list23, list24,list25],\n",
    "             columns=['Restaurant_Name', 'Order_Count'])\n",
    "rest_top25.head()"
   ]
  },
  {
   "cell_type": "code",
   "execution_count": null,
   "id": "4b08bc3c",
   "metadata": {},
   "outputs": [],
   "source": [
    "sns.countplot(y=\"Restaurant_Name\", data=rest_top25)\n",
    "\n",
    "# to not display any waring \n",
    "import warnings\n",
    "warnings.filterwarnings('ignore')\n",
    "\n",
    "%matplotlib inline \n",
    "#to tell python to display the graphs\n",
    "sns.set(color_codes=True) # to add a nice background to the graphs"
   ]
  }
 ],
 "metadata": {
  "kernelspec": {
   "display_name": "Python 3",
   "language": "python",
   "name": "python3"
  },
  "language_info": {
   "codemirror_mode": {
    "name": "ipython",
    "version": 3
   },
   "file_extension": ".py",
   "mimetype": "text/x-python",
   "name": "python",
   "nbconvert_exporter": "python",
   "pygments_lexer": "ipython3",
   "version": "3.8.8"
  }
 },
 "nbformat": 4,
 "nbformat_minor": 5
}
